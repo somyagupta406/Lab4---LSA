{
 "cells": [
  {
   "cell_type": "markdown",
   "metadata": {},
   "source": [
    "### LATENT SEMANTIC ANALYSIS"
   ]
  },
  {
   "cell_type": "code",
   "execution_count": 1,
   "metadata": {
    "collapsed": true
   },
   "outputs": [],
   "source": [
    "from bs4 import BeautifulSoup\n",
    "import nltk\n",
    "from nltk.corpus import stopwords\n",
    "from sklearn.feature_extraction.text import TfidfVectorizer\n",
    "from sklearn.decomposition import TruncatedSVD\n",
    "from sklearn.datasets import fetch_20newsgroups"
   ]
  },
  {
   "cell_type": "code",
   "execution_count": 2,
   "metadata": {
    "collapsed": true
   },
   "outputs": [],
   "source": [
    "categories = ['rec.sport.baseball']\n",
    "dataset = fetch_20newsgroups(subset='all',shuffle=True, random_state=42, categories=categories)\n",
    "corpus = dataset.data"
   ]
  },
  {
   "cell_type": "code",
   "execution_count": 3,
   "metadata": {
    "collapsed": false
   },
   "outputs": [
    {
     "name": "stdout",
     "output_type": "stream",
     "text": [
      "[nltk_data] Downloading package stopwords to\n",
      "[nltk_data]     C:\\Users\\somya\\AppData\\Roaming\\nltk_data...\n",
      "[nltk_data]   Package stopwords is already up-to-date!\n"
     ]
    },
    {
     "data": {
      "text/plain": [
       "True"
      ]
     },
     "execution_count": 3,
     "metadata": {},
     "output_type": "execute_result"
    }
   ],
   "source": [
    "nltk.download('stopwords')"
   ]
  },
  {
   "cell_type": "code",
   "execution_count": 4,
   "metadata": {
    "collapsed": true
   },
   "outputs": [],
   "source": [
    "corpus = [x.lower() for x in corpus]"
   ]
  },
  {
   "cell_type": "code",
   "execution_count": 5,
   "metadata": {
    "collapsed": false
   },
   "outputs": [
    {
     "data": {
      "text/plain": [
       "u\"from: writingctr@leo.bsuvc.bsu.edu\\nsubject: re: cub fever.\\norganization: ball state university, muncie, in - univ. computing svc's\\nlines: 21\\n\\n\\nin article <kingoz.735285670@camelot>, kingoz@camelot.bradley.edu (orin roth) writes:\\n> \\n>    cub fever is hitting me again. i'm beginning to think they have a \\n>    chance this year. (what the heck am i thinking?)\\n>    sorry. just a moment of incompetence.\\n>    i'll be ok. really. \\n>    orin.\\n>    bradley u.\\n> \\n> --\\n> i'm really a jester in disguise!                                   \\ni hear ya!  then again, we must remember that we are indeed cub fans, and\\nthat the cubs will eventually blow it.  after all, the cubs are the easiest\\nteam in the national league to root for.  no pressure.  you know they will\\nlose eventually.  oh well, i suppose we must have faith.  after all, they\\ndo look pretty good, and they don't even have sandberg back yet.  \\n\\ncubs in '93!!!!!\\n\\ncha\\n\""
      ]
     },
     "execution_count": 5,
     "metadata": {},
     "output_type": "execute_result"
    }
   ],
   "source": [
    "corpus[0]"
   ]
  },
  {
   "cell_type": "code",
   "execution_count": 63,
   "metadata": {
    "collapsed": false
   },
   "outputs": [],
   "source": [
    "stopset = set(stopwords.words('english'))\n",
    "\n",
    "stopset.update(['\\n','<','>','\\t','nntp','much','might','howard johnson','mike fester', 'robert holt',\n",
    "                'joe chiple', 'erik roush', 'mary cole', '~q', 'chuck clein', 'vaughn', 'chuq von rospach',\n",
    "                'roger maynard', 'since', 'imho', 'looking', 'neal traven', 'joe carter', \n",
    "               'roger lusting', 'doug ritter', 'keith keller', 'danny smith', 'michael lurie', 'bruce kleinman',\n",
    "               'richard', 'vaughn', 'jim clouse', 'orin roth', 'alan sepinwall', 'mike jones', 'charles m kozierok',\n",
    "               'ted frank', 'mark davis', 'greg spira', 'david rex wood', 'hody hagins', 'net', 'little',\n",
    "               'scott barman', 'doug roberts', 'help', 'douglas fowler', 'gary wieman', 'imho', 'right', 'enough', \n",
    "               'anyone', 'info', 'without', 'also', 'still', 'suppose', 'etc', 'believe', 'fact','thanks', 'made', \n",
    "               'called', 'really', 'seen', 'even', 'seems', 'maybe','better', 'think', 'like', '00 00', \n",
    "               'cs', 'com', 'us', 'edu', 'know', 'would', 'go', '00 00 00', 'anything', 'take', 'al', 'ca',\n",
    "               '00', '000', '000 000', '000 000 000', 'may', 'way', 'get',])"
   ]
  },
  {
   "cell_type": "code",
   "execution_count": 64,
   "metadata": {
    "collapsed": true
   },
   "outputs": [],
   "source": [
    "vectorizer = TfidfVectorizer(stop_words=stopset,\n",
    "                                 use_idf=True, ngram_range=(1, 3))\n",
    "X = vectorizer.fit_transform(corpus)"
   ]
  },
  {
   "cell_type": "code",
   "execution_count": 65,
   "metadata": {
    "collapsed": false
   },
   "outputs": [
    {
     "data": {
      "text/plain": [
       "<1x179540 sparse matrix of type '<type 'numpy.float64'>'\n",
       "\twith 210 stored elements in Compressed Sparse Row format>"
      ]
     },
     "execution_count": 65,
     "metadata": {},
     "output_type": "execute_result"
    }
   ],
   "source": [
    "X[0]"
   ]
  },
  {
   "cell_type": "code",
   "execution_count": 66,
   "metadata": {
    "collapsed": false
   },
   "outputs": [
    {
     "name": "stdout",
     "output_type": "stream",
     "text": [
      "  (0, 49995)\t0.0765116734718\n",
      "  (0, 178804)\t0.0765116734718\n",
      "  (0, 28722)\t0.0765116734718\n",
      "  (0, 138738)\t0.0765116734718\n",
      "  (0, 73877)\t0.0765116734718\n",
      "  (0, 126521)\t0.0765116734718\n",
      "  (0, 97558)\t0.0765116734718\n",
      "  (0, 63038)\t0.0765116734718\n",
      "  (0, 107423)\t0.0765116734718\n",
      "  (0, 171525)\t0.0765116734718\n",
      "  (0, 112812)\t0.0765116734718\n",
      "  (0, 60905)\t0.0765116734718\n",
      "  (0, 97989)\t0.0765116734718\n",
      "  (0, 126416)\t0.0765116734718\n",
      "  (0, 135886)\t0.0765116734718\n",
      "  (0, 93141)\t0.0765116734718\n",
      "  (0, 108065)\t0.0765116734718\n",
      "  (0, 157213)\t0.0765116734718\n",
      "  (0, 57960)\t0.0765116734718\n",
      "  (0, 50035)\t0.0765116734718\n",
      "  (0, 34823)\t0.0765116734718\n",
      "  (0, 60891)\t0.0765116734718\n",
      "  (0, 50041)\t0.0765116734718\n",
      "  (0, 63507)\t0.0765116734718\n",
      "  (0, 49936)\t0.0765116734718\n",
      "  :\t:\n",
      "  (0, 175288)\t0.01619480883\n",
      "  (0, 136133)\t0.0574966657126\n",
      "  (0, 115506)\t0.114993331425\n",
      "  (0, 36638)\t0.103115511068\n",
      "  (0, 39612)\t0.108887292156\n",
      "  (0, 17089)\t0.0765116734718\n",
      "  (0, 90385)\t0.114993331425\n",
      "  (0, 25517)\t0.0167505629187\n",
      "  (0, 7712)\t0.0390882503567\n",
      "  (0, 95414)\t0.0106766664644\n",
      "  (0, 155611)\t0.0632167541618\n",
      "  (0, 46727)\t0.0404165414445\n",
      "  (0, 166386)\t0.0407763209123\n",
      "  (0, 107222)\t0.0632167541618\n",
      "  (0, 166422)\t0.0186854464098\n",
      "  (0, 150948)\t0.0387806207625\n",
      "  (0, 29246)\t0.0318894659959\n",
      "  (0, 114893)\t0.0106981492205\n",
      "  (0, 64608)\t0.129705349688\n",
      "  (0, 49917)\t0.167582235092\n",
      "  (0, 153567)\t0.0106124778944\n",
      "  (0, 37906)\t0.0526198890253\n",
      "  (0, 37927)\t0.0526198890253\n",
      "  (0, 94173)\t0.0515577555338\n",
      "  (0, 176245)\t0.0765116734718\n"
     ]
    }
   ],
   "source": [
    "print X[0]"
   ]
  },
  {
   "cell_type": "code",
   "execution_count": 67,
   "metadata": {
    "collapsed": false
   },
   "outputs": [
    {
     "data": {
      "text/plain": [
       "(994, 179540)"
      ]
     },
     "execution_count": 67,
     "metadata": {},
     "output_type": "execute_result"
    }
   ],
   "source": [
    "X.shape"
   ]
  },
  {
   "cell_type": "code",
   "execution_count": 68,
   "metadata": {
    "collapsed": false
   },
   "outputs": [
    {
     "data": {
      "text/plain": [
       "TruncatedSVD(algorithm='randomized', n_components=27, n_iter=100,\n",
       "       random_state=None, tol=0.0)"
      ]
     },
     "execution_count": 68,
     "metadata": {},
     "output_type": "execute_result"
    }
   ],
   "source": [
    "lsa = TruncatedSVD(n_components=27, n_iter=100)\n",
    "lsa.fit(X)"
   ]
  },
  {
   "cell_type": "code",
   "execution_count": 69,
   "metadata": {
    "collapsed": false
   },
   "outputs": [
    {
     "data": {
      "text/plain": [
       "array([ 0.00061338,  0.00061338,  0.00061338, ...,  0.00108248,\n",
       "        0.00108248,  0.00108248])"
      ]
     },
     "execution_count": 69,
     "metadata": {},
     "output_type": "execute_result"
    }
   ],
   "source": [
    "lsa.components_[0]"
   ]
  },
  {
   "cell_type": "code",
   "execution_count": 70,
   "metadata": {
    "collapsed": false
   },
   "outputs": [
    {
     "name": "stdout",
     "output_type": "stream",
     "text": [
      "2.7.12 |Anaconda 4.1.1 (64-bit)| (default, Jun 29 2016, 11:07:13) [MSC v.1500 64 bit (AMD64)]\n"
     ]
    }
   ],
   "source": [
    "import sys\n",
    "print (sys.version)"
   ]
  },
  {
   "cell_type": "code",
   "execution_count": 71,
   "metadata": {
    "collapsed": false
   },
   "outputs": [
    {
     "name": "stdout",
     "output_type": "stream",
     "text": [
      "Concept 0:\n",
      "year\n",
      "team\n",
      "game\n",
      "writes\n",
      "article\n",
      "baseball\n",
      "players\n",
      "games\n",
      "one\n",
      "good\n",
      " \n",
      "Concept 1:\n",
      "jewish\n",
      "000th\n",
      "aix\n",
      "season\n",
      "red\n",
      "article\n",
      "jewish baseball\n",
      "braves\n",
      "jewish baseball players\n",
      "university\n",
      " \n",
      "Concept 2:\n",
      "clutch\n",
      "hit\n",
      "ball\n",
      "come\n",
      "posting host\n",
      "netcom\n",
      "fans\n",
      "runs\n",
      "performance\n",
      "hitting\n",
      " \n",
      "Concept 3:\n",
      "team\n",
      "player\n",
      "morris\n",
      "article\n",
      "posting\n",
      "win\n",
      "say\n",
      "posting host\n",
      "netcom\n",
      "dept\n",
      " \n",
      "Concept 4:\n",
      "good\n",
      "001\n",
      "bonds\n",
      "writes\n",
      "article\n",
      "david\n",
      "hall\n",
      "games\n",
      "fans\n",
      "clutch\n",
      " \n",
      "Concept 5:\n",
      "000th\n",
      "probably\n",
      "gant\n",
      "reply\n",
      "great\n",
      "organization\n",
      "hall\n",
      "game\n",
      "young\n",
      "university\n",
      " \n",
      "Concept 6:\n",
      "win\n",
      "001\n",
      "league\n",
      "year\n",
      "games\n",
      "player\n",
      "ever\n",
      "make\n",
      "good\n",
      "15\n",
      " \n",
      "Concept 7:\n",
      "game\n",
      "host\n",
      "one\n",
      "hitting\n",
      "back\n",
      "lines\n",
      "games\n",
      "university\n",
      "0000ahc udcps3 cps\n",
      "distribution\n",
      " \n",
      "Concept 8:\n",
      "first\n",
      "000th career\n",
      "hit\n",
      "pitching\n",
      "bad\n",
      "posting\n",
      "end\n",
      "game\n",
      "people\n",
      "one\n",
      " \n",
      "Concept 9:\n",
      "article\n",
      "game\n",
      "morris\n",
      "000th\n",
      "years\n",
      "make\n",
      "team\n",
      "last\n",
      "games\n",
      "teams\n",
      " \n",
      "Concept 10:\n",
      "posting host\n",
      "years\n",
      "player\n",
      "university\n",
      "time\n",
      "players\n",
      "year\n",
      "uiuc\n",
      "ball\n",
      "home\n",
      " \n",
      "Concept 11:\n",
      "games\n",
      "one\n",
      "baseball\n",
      "make\n",
      "pitching\n",
      "university\n",
      "best\n",
      "scott\n",
      "000th career\n",
      "back\n",
      " \n",
      "Concept 12:\n",
      "games\n",
      "last\n",
      "many\n",
      "hitter\n",
      "writes article\n",
      "jays\n",
      "001\n",
      "three\n",
      "sox\n",
      "pitch\n",
      " \n",
      "Concept 13:\n",
      "big\n",
      "001\n",
      "win\n",
      "game\n",
      "john\n",
      "pitching\n",
      "posting\n",
      "boston\n",
      "writes\n",
      "baseball\n",
      " \n",
      "Concept 14:\n",
      "game\n",
      "first\n",
      "one\n",
      "season\n",
      "university\n",
      "writes\n",
      "article\n",
      "news\n",
      "last\n",
      "got\n",
      " \n",
      "Concept 15:\n",
      "last\n",
      "good\n",
      "writes\n",
      "team\n",
      "posting\n",
      "distribution\n",
      "time\n",
      "best\n",
      "smith\n",
      "clutch\n",
      " \n",
      "Concept 16:\n",
      "host\n",
      "game\n",
      "posting\n",
      "well\n",
      "pitcher\n",
      "writes\n",
      "lot\n",
      "good\n",
      "look\n",
      "writes article\n",
      " \n",
      "Concept 17:\n",
      "writes\n",
      "morris\n",
      "organization university\n",
      "organization\n",
      "netcom\n",
      "subject\n",
      "make\n",
      "long\n",
      "last\n",
      "back\n",
      " \n",
      "Concept 18:\n",
      "first\n",
      "organization university\n",
      "000th\n",
      "good\n",
      "game\n",
      "said\n",
      "could\n",
      "morris\n",
      "one\n",
      "writes\n",
      " \n",
      "Concept 19:\n",
      "players\n",
      "games\n",
      "posting\n",
      "good\n",
      "first\n",
      "team\n",
      "bonds\n",
      "uiuc\n",
      "hitter\n",
      "subject\n",
      " \n",
      "Concept 20:\n",
      "001 100\n",
      "001\n",
      "year\n",
      "last\n",
      "players\n",
      "subject\n",
      "day\n",
      "team\n",
      "distribution\n",
      "000th career win\n",
      " \n",
      "Concept 21:\n",
      "host\n",
      "university\n",
      "writes\n",
      "one\n",
      "0000ahc udcps3 cps\n",
      "article\n",
      "000th\n",
      "games\n",
      "world\n",
      "back\n",
      " \n",
      "Concept 22:\n",
      "hit\n",
      "say\n",
      "000th\n",
      "players\n",
      "best\n",
      "could\n",
      "posting\n",
      "last year\n",
      "roger\n",
      "people\n",
      " \n",
      "Concept 23:\n",
      "lines\n",
      "one\n",
      "time\n",
      "braves\n",
      "subject\n",
      "posting\n",
      "see\n",
      "make\n",
      "win\n",
      "001 100\n",
      " \n",
      "Concept 24:\n",
      "year\n",
      "posting host\n",
      "000th\n",
      "games\n",
      "0000ahc udcps3 cps\n",
      "come\n",
      "second\n",
      "pitching\n",
      "000th career\n",
      "play\n",
      " \n",
      "Concept 25:\n",
      "last\n",
      "one\n",
      "000th\n",
      "players\n",
      "team\n",
      "article\n",
      "baseball\n",
      "0000ahc udcps3 cps\n",
      "season\n",
      "game\n",
      " \n",
      "Concept 26:\n",
      "writes\n",
      "000th career win\n",
      "001 100\n",
      "runs\n",
      "0000ahc udcps3 cps\n",
      "000th\n",
      "year\n",
      "two\n",
      "say\n",
      "win\n",
      " \n"
     ]
    }
   ],
   "source": [
    "terms = vectorizer.get_feature_names()\n",
    "for i, comp in enumerate(lsa.components_): \n",
    "    termsInComp = zip (terms,comp)\n",
    "    sortedTerms =  sorted(termsInComp, key=lambda x: x[1], reverse=True) [:10]\n",
    "    print \"Concept %d:\" % i\n",
    "    for term in sortedTerms:\n",
    "        print term[0]\n",
    "    print \" \""
   ]
  },
  {
   "cell_type": "code",
   "execution_count": 34,
   "metadata": {
    "collapsed": false
   },
   "outputs": [
    {
     "data": {
      "text/plain": [
       "array([[  1.95890025e-02,   6.19052039e-03,   1.02201609e-03, ...,\n",
       "          1.05325239e-03,   1.05325239e-03,   1.05325239e-03],\n",
       "       [ -1.46316224e-02,  -8.31854042e-04,  -6.49764966e-02, ...,\n",
       "         -5.06942833e-04,  -5.06942833e-04,  -5.06942833e-04],\n",
       "       [ -1.38644634e-01,  -6.95182950e-02,  -8.04220795e-02, ...,\n",
       "         -7.00140727e-05,  -7.00140727e-05,  -7.00140727e-05],\n",
       "       ..., \n",
       "       [  5.71951469e-02,   3.23725098e-02,  -4.70464415e-02, ...,\n",
       "          8.00447200e-04,   8.00447200e-04,   8.00447200e-04],\n",
       "       [ -6.81026606e-02,  -2.29743945e-02,   1.48614989e-01, ...,\n",
       "         -4.60159379e-04,  -4.60159379e-04,  -4.60159379e-04],\n",
       "       [ -6.67407855e-02,  -5.46814025e-02,   1.54714905e-01, ...,\n",
       "         -1.48591247e-03,  -1.48591247e-03,  -1.48591247e-03]])"
      ]
     },
     "execution_count": 34,
     "metadata": {},
     "output_type": "execute_result"
    }
   ],
   "source": [
    "lsa.components_"
   ]
  },
  {
   "cell_type": "markdown",
   "metadata": {},
   "source": [
    "Analzing the above data we can interpret that they are taking about baseball game."
   ]
  },
  {
   "cell_type": "code",
   "execution_count": null,
   "metadata": {
    "collapsed": true
   },
   "outputs": [],
   "source": []
  }
 ],
 "metadata": {
  "anaconda-cloud": {},
  "kernelspec": {
   "display_name": "Python [Root]",
   "language": "python",
   "name": "Python [Root]"
  },
  "language_info": {
   "codemirror_mode": {
    "name": "ipython",
    "version": 2
   },
   "file_extension": ".py",
   "mimetype": "text/x-python",
   "name": "python",
   "nbconvert_exporter": "python",
   "pygments_lexer": "ipython2",
   "version": "2.7.12"
  }
 },
 "nbformat": 4,
 "nbformat_minor": 0
}
